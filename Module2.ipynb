{
 "cells": [
  {
   "cell_type": "markdown",
   "source": [
    "# Módulo 2 - Curso Preparacion Certificado Profesional PCAP"
   ],
   "metadata": {
    "collapsed": false,
    "pycharm": {
     "name": "#%% md\n"
    }
   }
  },
  {
   "cell_type": "markdown",
   "source": [
    "## Día 3"
   ],
   "metadata": {
    "collapsed": false,
    "pycharm": {
     "name": "#%% md\n"
    }
   }
  },
  {
   "cell_type": "markdown",
   "source": [
    "### Strings, String and List Methods, Exceptions\n",
    "• Characters, strings and coding standards <br/>\n",
    "• Strings vs. lists – similarities and differences <br/>\n",
    "• Lists methods <br/>\n",
    "• String methods <br/>\n",
    "• Python's way of handling runtime errors <br/>\n",
    "• Controlling the flow of errors using **try** and **except** <br/>\n",
    "• Hierarchy of exceptions"
   ],
   "metadata": {
    "collapsed": false,
    "pycharm": {
     "name": "#%% md\n"
    }
   }
  },
  {
   "cell_type": "markdown",
   "source": [
    "### I18N\n",
    "Cada programa debe ser escrito de modo que pueda usarse en diferentes partes del mundo con distintos alfabetos, lenaguajes y culturas. Este sofware I18N es un estándar a día de hoy que se encarga de dicha tarea de internacionalización."
   ],
   "metadata": {
    "collapsed": false,
    "pycharm": {
     "name": "#%% md\n"
    }
   }
  },
  {
   "cell_type": "markdown",
   "source": [
    "### Code point\n",
    "Es un número al que se le asocia un caracter. Con 8 bits (ASCII), encontramos 256 posibilidades de las cuales 128 están usadas para el alfabeto latino estándar. Las 128 posibilidades restantes no son suficientes para captar todos los posibles caracteres de los diversos alfabetos y lenguas del mundo. Podemos obtener el 'code point' asignado a un caracter gracias a la función *ord()*. <br/>\n",
    "Por otro lado, la función *chr()* toma como input un número, el ´code point´, y devuelve el caracter asociado."
   ],
   "metadata": {
    "collapsed": false,
    "pycharm": {
     "name": "#%% md\n"
    }
   }
  },
  {
   "cell_type": "code",
   "execution_count": 10,
   "outputs": [
    {
     "name": "stdout",
     "output_type": "stream",
     "text": [
      "97\n",
      "32\n",
      "945\n",
      "a\n",
      "α\n",
      "True\n",
      "True\n"
     ]
    }
   ],
   "source": [
    "# Demonstrating the ord() function.\n",
    "\n",
    "char_1 = 'a'  # latin letter a\n",
    "char_2 = ' '  # space\n",
    "char_3 ='α'   # greek letter alpha\n",
    "\n",
    "print(ord(char_1))\n",
    "print(ord(char_2))\n",
    "print(ord(char_3))\n",
    "\n",
    "# Demonstrating the chr() function.\n",
    "\n",
    "print(chr(97))\n",
    "print(chr(945))\n",
    "\n",
    "# Podemos entenderlas como funciones inversas la una de la otra.\n",
    "print(chr(ord('a')) == 'a')\n",
    "print(ord(chr(97)) == 97)\n"
   ],
   "metadata": {
    "collapsed": false,
    "pycharm": {
     "name": "#%%\n"
    }
   }
  },
  {
   "cell_type": "markdown",
   "source": [
    "### Code Page\n",
    "Una 'code page' sirve para almacenar en esas 128 posibilidades unos ciertos carácteres de algunas lenguas del mundo. Será importante saber en que 'code page' nos encontramos. <br/>\n",
    "\n",
    "*\"For example, the code point 200 makes Č (a letter used by some Slavic languages) when utilized by the ISO/IEC 8859-2 code page, and makes Ш (a Cyrillic letter) when used by the ISO/IEC 8859-5 code page.\"*"
   ],
   "metadata": {
    "collapsed": false,
    "pycharm": {
     "name": "#%% md\n"
    }
   }
  },
  {
   "cell_type": "markdown",
   "source": [
    "### Strings\n",
    "Strings are **inmutable sequences**."
   ],
   "metadata": {
    "collapsed": false,
    "pycharm": {
     "name": "#%% md\n"
    }
   }
  },
  {
   "cell_type": "code",
   "execution_count": 3,
   "outputs": [
    {
     "name": "stdout",
     "output_type": "stream",
     "text": [
      "2 by\n",
      "0\n",
      "3 I'm\n"
     ]
    }
   ],
   "source": [
    "# Example 1\n",
    "\n",
    "word = 'by'\n",
    "print(len(word),word)\n",
    "\n",
    "# Example 2\n",
    "\n",
    "empty = ''\n",
    "print(len(empty))\n",
    "\n",
    "# Example 3\n",
    "\n",
    "i_am = 'I\\'m'\n",
    "print(len(i_am),i_am)"
   ],
   "metadata": {
    "collapsed": false,
    "pycharm": {
     "name": "#%%\n"
    }
   }
  },
  {
   "cell_type": "markdown",
   "source": [
    "#### Multilines\n",
    "Podemos separar una cadena en varias líneas, mediante tres ´´´string <br/>\n",
    "continua string´´´. <br/>\n",
    "Debemos llevar cuidado pues al separar líneas se incluirá un carácter extra **NO VISIBLE**, (\\n), que contará al sumar el número de caracteres en una string."
   ],
   "metadata": {
    "collapsed": false,
    "pycharm": {
     "name": "#%% md\n"
    }
   }
  },
  {
   "cell_type": "code",
   "execution_count": 4,
   "outputs": [
    {
     "name": "stdout",
     "output_type": "stream",
     "text": [
      "15\n"
     ]
    }
   ],
   "source": [
    "multiline = '''Line #1\n",
    "Line #2'''\n",
    "\n",
    "print(len(multiline))"
   ],
   "metadata": {
    "collapsed": false,
    "pycharm": {
     "name": "#%%\n"
    }
   }
  },
  {
   "cell_type": "markdown",
   "source": [
    "#### Operaciones con strings\n",
    "• *The ability to use the same operator against completely different kinds of data (like numbers vs. strings) is called overloading (as such an operator is overloaded with different duties).* <br/>\n",
    "• La función **min()** devuelve el mínimo valor de una string o lista. OJO: Las letras mayúsculas tienen un code Point menor en ASCII y por ello **min(['A','a'])** será A. La fución **max()** opera de forma análoga.<br/>\n",
    "• El método **.index()** busca el índice en el que aparece el elemento (caracter) de interés, por ejemplo,\n",
    "*print(\"aAbByYzZaA\".index(\"b\"))* dará como resultado 2. <br/>\n",
    "• La función **list()** aplicada a una string, devuelve una lista con todos los caracteres de la string, cada uno como un elemento único de la lista en cuestión. <br/>\n",
    "• La función **count()**, cuenta la frecuencia de un elemento en una lista."
   ],
   "metadata": {
    "collapsed": false,
    "pycharm": {
     "name": "#%% md\n"
    }
   }
  },
  {
   "cell_type": "code",
   "execution_count": 14,
   "outputs": [
    {
     "name": "stdout",
     "output_type": "stream",
     "text": [
      "ab\n",
      "ba\n",
      "aaaaa\n",
      "bbbb\n"
     ]
    }
   ],
   "source": [
    "str1 = 'a'\n",
    "str2 = 'b'\n",
    "\n",
    "print(str1 + str2)\n",
    "print(str2 + str1)\n",
    "print(5 * 'a')\n",
    "print('b' * 4)"
   ],
   "metadata": {
    "collapsed": false,
    "pycharm": {
     "name": "#%%\n"
    }
   }
  },
  {
   "cell_type": "markdown",
   "source": [
    "### Indexing, Iterating and Slices"
   ],
   "metadata": {
    "collapsed": false,
    "pycharm": {
     "name": "#%% md\n"
    }
   }
  },
  {
   "cell_type": "code",
   "execution_count": 13,
   "outputs": [
    {
     "name": "stdout",
     "output_type": "stream",
     "text": [
      "s i l l y   w a l k s s i l l y   w a l k s bd\n",
      "efg\n",
      "abd\n",
      "e\n",
      "ef\n",
      "e\n",
      "adf\n",
      "beg\n"
     ]
    }
   ],
   "source": [
    "# Indexing strings.\n",
    "\n",
    "the_string = 'silly walks'\n",
    "\n",
    "for ix in range(len(the_string)):\n",
    "    print(the_string[ix], end=' ')\n",
    "\n",
    "# Iterating through a string.\n",
    "\n",
    "the_string = 'silly walks'\n",
    "\n",
    "for character in the_string:\n",
    "    print(character, end=' ')\n",
    "\n",
    "# Slices\n",
    "\n",
    "alpha = \"abdefg\"\n",
    "\n",
    "print(alpha[1:3])\n",
    "print(alpha[3:])\n",
    "print(alpha[:3])\n",
    "print(alpha[3:-2])\n",
    "print(alpha[3:-1])\n",
    "print(alpha[-3:4])\n",
    "print(alpha[::2])\n",
    "print(alpha[1::2])"
   ],
   "metadata": {
    "collapsed": false,
    "pycharm": {
     "name": "#%%\n"
    }
   }
  },
  {
   "cell_type": "markdown",
   "source": [
    "### Python methods for processing characters\n",
    "https://docs.python.org/3.4/library/stdtypes.html#string-methods"
   ],
   "metadata": {
    "collapsed": false,
    "pycharm": {
     "name": "#%% md\n"
    }
   }
  },
  {
   "cell_type": "code",
   "execution_count": null,
   "outputs": [],
   "source": [],
   "metadata": {
    "collapsed": false,
    "pycharm": {
     "name": "#%%\n"
    }
   }
  }
 ],
 "metadata": {
  "kernelspec": {
   "display_name": "Python 3",
   "language": "python",
   "name": "python3"
  },
  "language_info": {
   "codemirror_mode": {
    "name": "ipython",
    "version": 2
   },
   "file_extension": ".py",
   "mimetype": "text/x-python",
   "name": "python",
   "nbconvert_exporter": "python",
   "pygments_lexer": "ipython2",
   "version": "2.7.6"
  }
 },
 "nbformat": 4,
 "nbformat_minor": 0
}