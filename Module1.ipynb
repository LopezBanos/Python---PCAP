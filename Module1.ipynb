{
 "cells": [
  {
   "cell_type": "markdown",
   "source": [
    "# Módulo 1 - Curso Preparacion Certificado Profesional PCAP"
   ],
   "metadata": {
    "collapsed": false,
    "pycharm": {
     "name": "#%% md\n"
    }
   }
  },
  {
   "cell_type": "markdown",
   "source": [
    "# Día 1"
   ],
   "metadata": {
    "collapsed": false,
    "pycharm": {
     "name": "#%% md\n"
    }
   }
  },
  {
   "cell_type": "markdown",
   "source": [
    "# Paquetes y pip\n",
    "• Importar y usar los módulos de Python <br/>\n",
    "• Usar los módulos de las librerias mas conocidas <br/>\n",
    "• Contrucción y uso de los paquetes de Python <br/>\n",
    "• Instalar y desintalar paquetes usando el comando pip <br/>"
   ],
   "metadata": {
    "collapsed": false,
    "pycharm": {
     "name": "#%% md\n"
    }
   }
  },
  {
   "cell_type": "markdown",
   "source": [
    "### ¿Qué es un módulo?"
   ],
   "metadata": {
    "collapsed": false,
    "pycharm": {
     "name": "#%% md\n"
    }
   }
  },
  {
   "cell_type": "markdown",
   "source": [
    "El proceso de dividir un código en partes mas sencillas que puedan ser trabajadas y desarrolladas de forma aislada para luego juntarlas en un único código, se denomina **descomposición**.\n",
    "Cada una de estas partes es lo que se conoce como módulos."
   ],
   "metadata": {
    "collapsed": false,
    "pycharm": {
     "name": "#%% md\n"
    }
   }
  },
  {
   "cell_type": "markdown",
   "source": [
    "### ¿Por qué esta formada la librería estándar de Python?\n",
    "Esta formada por las funcione pre-construidas que acompañan a Python junto con un largo conjunto de módulos que también incluye el propio Python (como si de herramientras extra se tratase).\n",
    "Link: https://docs.python.org/3/library/index.html"
   ],
   "metadata": {
    "collapsed": false,
    "pycharm": {
     "name": "#%% md\n"
    }
   }
  },
  {
   "cell_type": "markdown",
   "source": [
    "### Concepto de Namespace\n",
    "En resumidas cuentas, en Python cada variable tiene asignado un nombre o símbolo. Cuando importamos un módulo que contiene nombre y símbolos asociados a conceptos o valores (como pi), podemos seguir teniendo variable en nuestro progama con el mismo nombre que las que se encuentran en el módulo sin entrar en conflicto siempre y cuando no usemos las variables del módulo. Es decir, podemos asignar pi = 34 en nuestro código siempre y cuando no hagamos uso de la variable math.pi del paquete cargado. El namespace se encuentra dentro de cada módulo.\n",
    "\n",
    "![Namespace](Imagenes/namespace.png)"
   ],
   "metadata": {
    "collapsed": false,
    "pycharm": {
     "name": "#%% md\n"
    }
   }
  },
  {
   "cell_type": "markdown",
   "source": [
    "### Importando un módulo\n",
    "\n",
    "Existen varias maneras de importar un módulo: <br/>\n",
    "1) import math (Necesitas poner math. para cargar las entidades, eg, math.pi) <br/>\n",
    "2) import math as m (Análogo a lo anterior) <br/>\n",
    "3) from math import *  (Importa todas las entidades) <br/>"
   ],
   "metadata": {
    "collapsed": false,
    "pycharm": {
     "name": "#%% md\n"
    }
   }
  },
  {
   "cell_type": "code",
   "execution_count": 1,
   "outputs": [
    {
     "name": "stdout",
     "output_type": "stream",
     "text": [
      "__doc__\t__file__\t__loader__\t__name__\t__package__\t__spec__\tacos\tacosh\tasin\tasinh\tatan\tatan2\tatanh\tceil\tcomb\tcopysign\tcos\tcosh\tdegrees\tdist\te\terf\terfc\texp\texpm1\tfabs\tfactorial\tfloor\tfmod\tfrexp\tfsum\tgamma\tgcd\thypot\tinf\tisclose\tisfinite\tisinf\tisnan\tisqrt\tlcm\tldexp\tlgamma\tlog\tlog10\tlog1p\tlog2\tmodf\tnan\tnextafter\tperm\tpi\tpow\tprod\tradians\tremainder\tsin\tsinh\tsqrt\ttan\ttanh\ttau\ttrunc\tulp\t"
     ]
    }
   ],
   "source": [
    "import math\n",
    "for name in dir(math):\n",
    "    print(name, end=\"\\t\")"
   ],
   "metadata": {
    "collapsed": false,
    "pycharm": {
     "name": "#%%\n"
    }
   }
  },
  {
   "cell_type": "markdown",
   "source": [
    "### Selected functions from the math module\n",
    "• ceil(x) : el entero más pequeño mayor o igual a x <br/>\n",
    "• floor(x) : el entero más grande menor o igual a x <br/>\n",
    "• trunc(x) : trunca el número x <br/>\n",
    "• factorial(x) <br/>\n",
    "• pow(x,y) : $x^{y}$ <br/>"
   ],
   "metadata": {
    "collapsed": false,
    "pycharm": {
     "name": "#%% md\n"
    }
   }
  },
  {
   "cell_type": "markdown",
   "source": [
    "### Random module: Pseudorandom numbers\n",
    "Son números generados por algoritmos muy sofisticados que dan la sensación al usuario de ser aleatorio aunque no sea así.<br/>\n",
    "Un generador de números aleatorios parte de una **semilla** como input para obtener dichos valores aleatorios.\n",
    "\n",
    "• seed() : toma como semilla inicial el tiempo actual en que el programa se carga/ejecuta. <br/>\n",
    "• randint(left,right) : genera numeros enteros aleatorios en dicho intervalo. <br/>\n",
    "• choice(sequence) : Elige un valor de entre los valores que contiene la lista suministrada como input. <br/>\n",
    "• sample(sequence, n) : toma **n** elementos de la lista suministrada. <br/>\n",
    "\n"
   ],
   "metadata": {
    "collapsed": false,
    "pycharm": {
     "name": "#%% md\n"
    }
   }
  },
  {
   "cell_type": "markdown",
   "source": [
    "### Platform module\n",
    "Te permite saber que componentes del sistema se encuentran trabajando en el proyecto y en que entorno del sistema nos encontramos."
   ],
   "metadata": {
    "collapsed": false,
    "pycharm": {
     "name": "#%% md\n"
    }
   }
  },
  {
   "cell_type": "code",
   "execution_count": 1,
   "outputs": [
    {
     "name": "stdout",
     "output_type": "stream",
     "text": [
      "macOS-10.16-x86_64-i386-64bit\n",
      "i386\n",
      "Darwin\n",
      "Darwin Kernel Version 21.5.0: Tue Apr 26 21:08:29 PDT 2022; root:xnu-8020.121.3~4/RELEASE_ARM64_T8101\n"
     ]
    }
   ],
   "source": [
    "from platform import platform\n",
    "print(platform())\n",
    "\n",
    "from platform import processor\n",
    "print(processor())\n",
    "\n",
    "from platform import system,version\n",
    "print(system())\n",
    "print(version())"
   ],
   "metadata": {
    "collapsed": false,
    "pycharm": {
     "name": "#%%\n"
    }
   }
  },
  {
   "cell_type": "code",
   "execution_count": 3,
   "outputs": [
    {
     "name": "stdout",
     "output_type": "stream",
     "text": [
      "('3', '9', '12')\n"
     ]
    }
   ],
   "source": [
    "from platform import python_implementation, python_version_tuple\n",
    "\n",
    "print(python_version_tuple())"
   ],
   "metadata": {
    "collapsed": false,
    "pycharm": {
     "name": "#%%\n"
    }
   }
  },
  {
   "cell_type": "markdown",
   "source": [
    "# Día 2"
   ],
   "metadata": {
    "collapsed": false,
    "pycharm": {
     "name": "#%% md\n"
    }
   }
  },
  {
   "cell_type": "markdown",
   "source": [
    "### Package\n",
    "Un paquete contiene módulos que se encuentran realacionados, ya sea por tratar de la misma temática o por ser complementarios entre sí. Por ejemplo, los módulos de matplotlib se orientan al plot de gráficos.\n",
    "![Package](Imagenes/package.png)\n",
    "\n",
    "Para que Python detecte que un conjunto de módulos forman parte de un paquete, es necesario un archivo ´__init__.py que será ejecutado cuando alguno de los módulos sea importado.\n",
    "\n",
    "Además, una característica importante es que una vez tengamos el paquete bien estructurado podemos comprimirlo en un .zip y Python lo interpretará correctamente."
   ],
   "metadata": {
    "collapsed": false,
    "pycharm": {
     "name": "#%% md\n"
    }
   }
  },
  {
   "cell_type": "markdown",
   "source": [
    "### Creando un módulo\n",
    "Cuando importamos un módulo con Python en una primera ejecución crea una carpeta __pycache__ que continene un archivo compilado, se trata de código interno semi-compilado listo para ser ejecutado por el intérprete de Python.  De esta forma el archivo se leerá y ejecutará más rápido en comparación a como lo haria un archivo en crudo de código Python.\n",
    "___\n",
    "• Cambiar la carpeta de los módulos 'path' : https://edube.org/learn/pe-2/modules-and-packages-34 <br/>\n",
    "• La línea de código de inicio \"#!/usr/bin/env python3\" es simplemente un comentario para Python pero para el sistema (incluyendo macOS) es una guía de que intérprete utiliar para dicho programa. <br/>\n",
    "• Antes de las instrucciones del propio módulo debe haber un comentario \"\"\" comentario \"\"\" que informe acerca del propósito del módulo. <br/>\n",
    "• Cuando ejecutas un módulo directamente la variable  ´__name__´  se establece como ´__main__´. <br/>\n",
    "• Cuando el archivo es importado como módulo, el nombre de la variable ´__name__´ se establece como el nombre del módulo, en este caso ´__module__´. <br/>\n",
    "• Cuando como programador en Python no quieres que un usuario cambie una variable, no puedes ocultarla o prohibirla como en otros lenguajes, el convenio es poner ´_variable´ un guión bajo delante y detás. Un usuario que conozca dicho convenio puede saltárselo igualmente. <br/>\n",
    "• Una vez se hayan creado diversos módulos, pueden agruparse formando un paquete: https://edube.org/learn/pe-2/modules-and-packages-35 <br/>"
   ],
   "metadata": {
    "collapsed": false,
    "pycharm": {
     "name": "#%% md\n"
    }
   }
  },
  {
   "cell_type": "markdown",
   "source": [
    "### Dependency hell\n",
    "Cuando instalamos un paquete que tiene dependencias con otros paquetes, sería una tarea ardua instalar a mano los paquetes necesarios para el correcto funcionamiento. Por suerte, Python lo hace por nosotros."
   ],
   "metadata": {
    "collapsed": false,
    "pycharm": {
     "name": "#%% md\n"
    }
   }
  },
  {
   "cell_type": "markdown",
   "source": [
    "### Pip commands:\n",
    "• Información acerca de un paquete: pip help operation <br/>\n",
    "• Update Package: pip install -U package_name <br/>\n",
    "• Install a selected version: pip install package_name==package_version <br/>\n",
    "• Uninstall package: pip uninstall package_name <br/>"
   ],
   "metadata": {
    "collapsed": false,
    "pycharm": {
     "name": "#%% md\n"
    }
   }
  }
 ],
 "metadata": {
  "kernelspec": {
   "display_name": "Python 3",
   "language": "python",
   "name": "python3"
  },
  "language_info": {
   "codemirror_mode": {
    "name": "ipython",
    "version": 2
   },
   "file_extension": ".py",
   "mimetype": "text/x-python",
   "name": "python",
   "nbconvert_exporter": "python",
   "pygments_lexer": "ipython2",
   "version": "2.7.6"
  }
 },
 "nbformat": 4,
 "nbformat_minor": 0
}