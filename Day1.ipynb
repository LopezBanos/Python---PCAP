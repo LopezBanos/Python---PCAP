{
 "cells": [
  {
   "cell_type": "markdown",
   "source": [
    "# Día 1 - Curso Preparacion Certificado Profesional PCAP"
   ],
   "metadata": {
    "collapsed": false,
    "pycharm": {
     "name": "#%% md\n"
    }
   }
  },
  {
   "cell_type": "markdown",
   "source": [
    "# Módulo 1 - Paquetes y pip\n",
    "• Importar y usar los módulos de Python\n",
    "• Usar los módulos de las librerias mas conocidas\n",
    "• Contrucción y uso de los paquetes de Python\n",
    "• Instalar y desintalar paquetes usando el comando pip"
   ],
   "metadata": {
    "collapsed": false,
    "pycharm": {
     "name": "#%% md\n"
    }
   }
  },
  {
   "cell_type": "markdown",
   "source": [
    "### ¿Qué es un módulo?"
   ],
   "metadata": {
    "collapsed": false,
    "pycharm": {
     "name": "#%% md\n"
    }
   }
  },
  {
   "cell_type": "markdown",
   "source": [
    "El proceso de dividir un código en partes mas sencillas que puedan ser trabajadas y desarrolladas de forma aislada para luego juntarlas en un único código, se denomina **descomposición**.\n",
    "Cada una de estas partes es lo que se conoce como módulos."
   ],
   "metadata": {
    "collapsed": false,
    "pycharm": {
     "name": "#%% md\n"
    }
   }
  },
  {
   "cell_type": "markdown",
   "source": [
    "### ¿Por qué esta formada la librería estándar de Python?\n",
    "Esta formada por las funcione pre-construidas que acompañan a Python junto con un largo conjunto de módulos que también incluye el propio Python (como si de herramientras extra se tratase).\n",
    "Link: https://docs.python.org/3/library/index.html"
   ],
   "metadata": {
    "collapsed": false,
    "pycharm": {
     "name": "#%% md\n"
    }
   }
  },
  {
   "cell_type": "markdown",
   "source": [
    "### Concepto de Namespace\n",
    "En resumidas cuentas, en Python cada variable tiene asignado un nombre o símbolo. Cuando importamos un módulo que contiene nombre y símbolos asociados a conceptos o valores (como pi), podemos seguir teniendo variable en nuestro progama con el mismo nombre que las que se encuentran en el módulo sin entrar en conflicto siempre y cuando no usemos las variables del módulo. Es decir, podemos asignar pi = 34 en nuestro código siempre y cuando no hagamos uso de la variable math.pi del paquete cargado. El namespace se encuentra dentro de cada módulo.\n",
    "\n",
    "![Namespace](Imagenes/namespace.png)"
   ],
   "metadata": {
    "collapsed": false,
    "pycharm": {
     "name": "#%% md\n"
    }
   }
  },
  {
   "cell_type": "markdown",
   "source": [
    "### Importando un módulo\n",
    "\n",
    "Existen varias maneras de importar un módulo:\n",
    "1) import math (Necesitas poner math. para cargar las entidades, eg, math.pi)\n",
    "2) import math as m (Análogo a lo anterior)\n",
    "3) from math import *  (Importa todas las entidades)"
   ],
   "metadata": {
    "collapsed": false,
    "pycharm": {
     "name": "#%% md\n"
    }
   }
  },
  {
   "cell_type": "code",
   "execution_count": 6,
   "outputs": [
    {
     "name": "stdout",
     "output_type": "stream",
     "text": [
      "__doc__\t__file__\t__loader__\t__name__\t__package__\t__spec__\tacos\tacosh\tasin\tasinh\tatan\tatan2\tatanh\tceil\tcomb\tcopysign\tcos\tcosh\tdegrees\tdist\te\terf\terfc\texp\texpm1\tfabs\tfactorial\tfloor\tfmod\tfrexp\tfsum\tgamma\tgcd\thypot\tinf\tisclose\tisfinite\tisinf\tisnan\tisqrt\tlcm\tldexp\tlgamma\tlog\tlog10\tlog1p\tlog2\tmodf\tnan\tnextafter\tperm\tpi\tpow\tprod\tradians\tremainder\tsin\tsinh\tsqrt\ttan\ttanh\ttau\ttrunc\tulp\t"
     ]
    }
   ],
   "source": [
    "import math\n",
    "for name in dir(math):\n",
    "    print(name, end=\"\\t\")"
   ],
   "metadata": {
    "collapsed": false,
    "pycharm": {
     "name": "#%%\n"
    }
   }
  },
  {
   "cell_type": "markdown",
   "source": [
    "### Selected functions from the math module\n",
    "• ceil(x) : el entero más pequeño mayor o igual a x\n",
    "• floor(x) : el entero más grande menor o igual a x\n",
    "• trunc(x) : trunca el número x\n",
    "• factorial(x)\n",
    "• pow(x,y) : $x^{y}$"
   ],
   "metadata": {
    "collapsed": false,
    "pycharm": {
     "name": "#%% md\n"
    }
   }
  },
  {
   "cell_type": "markdown",
   "source": [
    "### Random module: Pseudorandom numbers\n",
    "Son números generados por algoritmos muy sofisticados que dan la sensación al usuario de ser aleatorio aunque no sea así.\n",
    "Un generador de números aleatorios parte de una **semilla** como input para obtener dichos valores aleatorios.\n",
    "\n",
    "• seed() : toma como semilla inicial el tiempo actual en que el programa se carga/ejecuta.\n",
    "• randint(left,right) : genera numeros enteros aleatorios en dicho intervalo.\n",
    "• choice(sequence) : Elige un valor de entre los valores que contiene la lista suministrada como input.\n",
    "• sample(sequence, n) : toma **n** elementos de la lista suministrada.\n",
    "\n"
   ],
   "metadata": {
    "collapsed": false,
    "pycharm": {
     "name": "#%% md\n"
    }
   }
  },
  {
   "cell_type": "markdown",
   "source": [
    "### Platform module\n",
    "Te permite saber que componentes del sistema se encuentran trabajando en el proyecto y en que entorno del sistema nos encontramos."
   ],
   "metadata": {
    "collapsed": false,
    "pycharm": {
     "name": "#%% md\n"
    }
   }
  },
  {
   "cell_type": "code",
   "execution_count": 14,
   "outputs": [
    {
     "name": "stdout",
     "output_type": "stream",
     "text": [
      "macOS-10.16-x86_64-i386-64bit\n",
      "i386\n",
      "Darwin\n"
     ]
    }
   ],
   "source": [
    "from platform import platform\n",
    "print(platform())\n",
    "\n",
    "from platform import processor\n",
    "print(processor())\n",
    "\n",
    "from platform import system\n",
    "print(system())"
   ],
   "metadata": {
    "collapsed": false,
    "pycharm": {
     "name": "#%%\n"
    }
   }
  },
  {
   "cell_type": "code",
   "execution_count": 16,
   "outputs": [
    {
     "name": "stdout",
     "output_type": "stream",
     "text": [
      "('3', '9', '12')\n"
     ]
    }
   ],
   "source": [
    "from platform import python_implementation, python_version_tuple\n",
    "\n",
    "print(python_version_tuple())"
   ],
   "metadata": {
    "collapsed": false,
    "pycharm": {
     "name": "#%%\n"
    }
   }
  },
  {
   "cell_type": "code",
   "execution_count": null,
   "outputs": [],
   "source": [],
   "metadata": {
    "collapsed": false,
    "pycharm": {
     "name": "#%%\n"
    }
   }
  }
 ],
 "metadata": {
  "kernelspec": {
   "display_name": "Python 3",
   "language": "python",
   "name": "python3"
  },
  "language_info": {
   "codemirror_mode": {
    "name": "ipython",
    "version": 2
   },
   "file_extension": ".py",
   "mimetype": "text/x-python",
   "name": "python",
   "nbconvert_exporter": "python",
   "pygments_lexer": "ipython2",
   "version": "2.7.6"
  }
 },
 "nbformat": 4,
 "nbformat_minor": 0
}